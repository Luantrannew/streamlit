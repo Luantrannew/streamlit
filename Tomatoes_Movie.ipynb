{
  "cells": [
    {
      "cell_type": "code",
      "execution_count": null,
      "metadata": {
        "id": "cG80uXbjgKjy"
      },
      "outputs": [],
      "source": [
        "# Import Library\n",
        "import pandas as pd\n",
        "import numpy as np\n",
        "from sklearn.feature_extraction.text import TfidfVectorizer\n",
        "from sklearn.feature_extraction.text import CountVectorizer\n",
        "from sklearn.metrics.pairwise import cosine_similarity\n",
        "from sklearn.metrics.pairwise import linear_kernel\n",
        "import warnings\n",
        "warnings.filterwarnings(\"ignore\")\n"
      ]
    },
    {
      "cell_type": "code",
      "execution_count": 3,
      "metadata": {
        "id": "CnwFp6WRgKj9"
      },
      "outputs": [],
      "source": [
        "movie = pd.read_csv('movie_preprocessing5.csv',encoding='utf-8')\n",
        "# movie=movie1[:5000]"
      ]
    },
    {
      "cell_type": "markdown",
      "metadata": {
        "id": "yjpOIyp_gKkA"
      },
      "source": []
    },
    {
      "cell_type": "markdown",
      "metadata": {
        "id": "YPu4XS2GzmuA"
      },
      "source": [
        "## Weight Rating\n"
      ]
    },
    {
      "cell_type": "markdown",
      "metadata": {
        "id": "1NL9p8jh3RS8"
      },
      "source": [
        "### ![image.png](data:image/png;base64,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)"
      ]
    },
    {
      "cell_type": "markdown",
      "metadata": {
        "id": "_UCOOZk20bQT"
      },
      "source": [
        "- W: weight rating\n",
        "- R: average score for the movie\n",
        "- v: number of review_count for the movie\n",
        "- m: minimum review_count required to be listed\n",
        "- C: the mean score across the whole dataset"
      ]
    },
    {
      "cell_type": "code",
      "execution_count": 4,
      "metadata": {
        "id": "l6Eq7b1wgKkE"
      },
      "outputs": [],
      "source": [
        "C = movie['Score'].mean()\n",
        "m =  movie['Review count'].quantile(0.9)\n",
        "# movie_list = movie.copy().loc[movie['Review count']>=m]"
      ]
    },
    {
      "cell_type": "code",
      "execution_count": 5,
      "metadata": {
        "id": "FC2b4ymqgKkH"
      },
      "outputs": [],
      "source": [
        "# Defining a function\n",
        "def weighted_rating(x,m=m,C=C):\n",
        "    v=x['Review count']\n",
        "    R=x['Score']\n",
        "    return ((R*v+C*m)/(v+m))"
      ]
    },
    {
      "cell_type": "code",
      "execution_count": 6,
      "metadata": {
        "id": "ZV4HGMfLgKkJ"
      },
      "outputs": [],
      "source": [
        "# movie_list['WR_score']=movie_list.apply(weighted_rating,axis=1)\n",
        "# movie_list.head()\n",
        "\n",
        "# Sort the movies based on their WR_score\n",
        "# movie_list = movie_list.sort_values('WR_score',ascending=False)\n",
        "# movie_list.head(10)"
      ]
    },
    {
      "cell_type": "markdown",
      "metadata": {
        "id": "_3VFNm0gz0UQ"
      },
      "source": [
        "## Cosine Similarity"
      ]
    },
    {
      "cell_type": "code",
      "execution_count": 7,
      "metadata": {
        "id": "o4QJzkqngKkO"
      },
      "outputs": [],
      "source": [
        "movie['General'] = movie['Genre'] + ' '  + movie['Original Language']+ ' ' + movie['Rating']+' '+ movie['Director'] + ' ' + movie['Cast']+' ' + movie['Synopsis']"
      ]
    },
    {
      "cell_type": "code",
      "execution_count": 7,
      "metadata": {
        "colab": {
          "base_uri": "https://localhost:8080/"
        },
        "id": "rIcxls7hvtNR",
        "outputId": "0c53ad7d-6f17-403b-938c-678bc9ade590"
      },
      "outputs": [
        {
          "name": "stdout",
          "output_type": "stream",
          "text": [
            "Drama Hindi PG-13 R. Balki Amitabh Bachchan, Abhishek Bachchan, Vidya Balan, Paresh Rawal, R. Balki, R. Balki, Sunil Manchanda A politician's 13-year-old son has a rare disorder that makes him appear to be a grown man.\n",
            "Drama, Comedy English PG-13 Niels Mueller David Sullivan, Bill Heck, Kristen Johnston, Tanya Fischer, Cooper J. Friedman, Braden Andersen, Andi Matusiak, Mark Borchardt, Kendall Dakof, Leah Joy Gayle, Braden Anderson, Niels Mueller, Jason Naczek, Scott K. Foley, Hongtao Liu, Niels Mueller, Josh Rosenberg, Alexander Payne, Jinhua Yang, Nathaniel Goodman, Tracy Adams, Nicholas Jacobson-Larson, Kelly Fallon, Ania Bista, Kate M. Blomquist, Nicole Abellera After losing a custody battle, perpetual teenager Wayne Stobierski steals his son away for one last father-son weekend to the city of their dreams -- Milwaukee, Wisconsin. What's supposed to be a light-hearted adventure, transforms into a journey of profound redemption.\n",
            "Comedy, Adventure Swedish R Felix Herngren Robert Gustafsson, Iwar Wiklander, David Wiberg, Mia Skäringer Lázár, Jens Hultén, Bianca Cruzeiro, Alan Ford, Sven Lönn, David Shackleton, Georg Nikoloff, Simon Säppenen, Manuel Dubra, Johan Rheborg, Donald Högberg, Cory Peterson, Kerry Shale, Philip Rosch, Keith Chanter, Patrik Karlson, Felix Herngren, Felix Herngren, Hans Ingemansson, Maria Dahlin, Malte Forssell, Felix Herngren, Henrik Jansson-Schweizer, Anna Knochenhauer, Hans Lönnerheden, Eiffel Mattsson, Patrick Nebout, Sigurjon Sighvatsson, Göran Hallberg, Henrik Källberg Allan Karlsson, a 100-year-old explosives expert, escapes from a retirement home.\n",
            "Drama, Mystery & thriller, Action English PG Don Siegel Clint Eastwood, Patrick McGoohan, Jack Thibeau, Roberts Blossom, Fred Ward, Paul Benjamin, Larry Hankin, Bruce M. Fischer, Frank Ronzio, Fred Stuthman, David Cryer, Madison Arnold, Blair Burrows, Bob Balhatchet, Matthew Locricchio, Don Michaelian, Ray K. Goman, Jason Ronard, Don Siegel, Don Siegel, Richard Tuggle Frank Morris (Clint Eastwood), a hardened con with a history of prison breaks, is sent to serve the rest of his life sentence at Alcatraz -- America's most infamously brutal and inescapable maximum security prison. Morris quickly realizes the prison's dehumanizing effects and clashes with its cruel warden (Patrick McGoohan). Fed up with life at Alcatraz, Morris and two convict brothers (Fred Ward, Jack Thibeau) meticulously plan the unthinkable: an escape from the island.\n",
            "Drama, Adventure, Romance English PG-13 Baltasar Kormákur Shailene Woodley, Sam Claflin, Jeffrey Thomas, Elizabeth Hawthorne, Grace Palmer, Tami Ashcraft, Marisiale Tunoka, Kael Damlamian, Neil Andrea, Apakuki Nalawa, Tim Solomon, Baltasar Kormákur, Aaron Kandell, Jordan Kandell, David Branson Smith, Baltasar Kormákur, Aaron Kandell, Jordan Kandell, Shailene Woodley, Ralph Winter, Magnús Viðar Sigurðsson, Andrea Scarso, Stephen Fuss, Tom Rosenberg, Gary Lucchesi, Eric Reid, Zhongjun Wang, Zhonglei Wang, Felice Bee, Robert Simonds, Adam Fogelson Tami Oldham and Richard Sharp couldn't anticipate that they would be sailing directly into one of the most catastrophic hurricanes in recorded history. In the aftermath of the storm, Tami awakens to find Richard badly injured and their boat in ruins. With no hope of rescue, Tami must now find the strength and determination to save herself and the only man she has ever loved.\n",
            "Drama, Crime English PG-13 Robert Wise Lawrence Tierney, Claire Trevor, Walter Slezak, Phillip Terry, Audrey Long, Elisha Cook Jr., Isabel Jewell, Esther Howard, Kathryn Card, Tony Barrett, Grandon Rhodes, Sam Lufkin, Sayre Dearing, Sammy Shack, Joe Dixon, Ruth Brennan, Tommy Noonan, Al Murphy, Phil Warren, Ben Frommer, Robert Wise, Herman Schlom, Sid Rogell, Eve Greene, Richard Macaulay Drifter Sam Wilde (Lawrence Tierney) murders a Reno, Nev., boardinghouse owner and her boyfriend in a fit of jealousy. Tenant Helen Brent (Claire Trevor) discovers the bodies, but instead of reporting the crime, she leaves for San Francisco as planned to return to her wealthy fiancé. On the same train, Sam flirts with Helen, then tracks her to her half-sister's house, where he continues to pursue her. Although Helen suspects Sam is a murderer, she inexplicably protects him from an investigator.\n",
            "Drama, Comedy English PG Michael Lehmann Billy Crystal, Kathleen Quinlan, Gheorghe Muresan, Joanna Pacula, Zane Carney, Rider Strong, Steven Seagal, Harold Gould, Doris Roberts, Philip Sterling, Heather Thomas, Michael Lehmann, Billy Crystal, David Seltzer, David Seltzer, Lynne Boyarsky, Billy Crystal, Peter Schindler, Marc Shaiman, Michael Coulter, Pam Dixon, Steve Semel, Jackson De Govia, Tom Reta, Sonja Klaus, Kathe Klopp, Rita Ryack, Peter Schindler, Tomás Baloun, Steve Rose, Carl S. Griffin Billy Crystal stars as Sammy, an agitated agent lost in the forest of the modern world, who happens upon a gentle giant with a tall talent for friendship named Max (Gheorghe Muresan). And while Max's life as a giant is no fairy tale, his heartwarming, hilarious adventures with Sammy prove that wishes really can come true.\n",
            "Documentary Korean R Daniel Gordon Daniel Gordon, Nick Bennet, Peter Haddon The Mass Games, a two-month-long gymnastics festival stressing group dynamics as much as individual skill, holds a vital place in the hearts of North Koreans and is an annual tradition. This film focuses on young performers, typically chosen at an early age for a lifetime career as gymnasts. In this case, the main subjects are two girls who have eight months to train for the 2003 Mass Games. In addition to the gymnasts, the filmmakers interview the girls' families for their perspective.\n",
            "Drama, Comedy, Romance English PG-13 Kirk Jones Cameron Diaz, Jennifer Lopez, Elizabeth Banks, Chace Crawford, Brooklyn Decker, Anna Kendrick, Matthew Morrison, Dennis Quaid, Chris Rock, Rodrigo Santoro, Ben Falcone, Joe Manganiello, Thomas Lennon, Kirk Jones, Shauna Cross, Heather Hach, Mike Medavoy, Arnold Messer, David Thwaites, Heidi Murkoff, Erik Murkoff, Alan Nevins, Mark Bakshi, Allison Shearmur, Jim Miller, Xavier Grobet, Andrew Laws, Michael Berenbaum, Karen Patch, Deborah Aquila, Mary Tricia Wood, Mark Mothersbaugh, James F. Truesdale Challenges of impending parenthood turn the lives of five couples upside down. Two celebrities are unprepared for the surprise demands of pregnancy; hormones wreak havoc on a baby-crazy author, while her husband tries not to be outdone by his father, who's expecting twins with his young trophy wife; a photographer's husband isn't sure about his wife's adoption plans; a one-time hook-up results in a surprise pregnancy for rival food-truck owners.\n",
            "Drama Italian PG-13 Eugène Green Fabrizio Rongione, Christelle Prot, Ludovico Succio, Arianna Nastro, Hervé Compagne, Sabine Ponte, Gilles Tonnelé, Eugène Green, Eugène Green An aging architect (Fabrizio Rongione) tries to rediscover his passion by going on a research expedition to the birthplace of 17th-century master Francesco Borromini.\n"
          ]
        }
      ],
      "source": [
        "for i in movie['General'][:10]:\n",
        "  print(i)"
      ]
    },
    {
      "cell_type": "markdown",
      "metadata": {
        "id": "Dtyl-l60vbzq"
      },
      "source": [
        "### Preprocessing"
      ]
    },
    {
      "cell_type": "code",
      "execution_count": 8,
      "metadata": {
        "id": "c7W-PwTbvjMa"
      },
      "outputs": [],
      "source": [
        "# # Preprocessing Review column\n",
        "# import pandas as pd\n",
        "# from nltk.corpus import stopwords\n",
        "# # from textblob import TextBlob\n",
        "# from nltk.corpus import stopwords\n",
        "# from nltk.tokenize import word_tokenize\n",
        "# import spacy\n",
        "# nlp = spacy.load(\"en_core_web_sm\")\n",
        "# stop_words = set(stopwords.words('english'))\n",
        "# import re\n",
        "\n",
        "# def clean_review(text):\n",
        "#     text = text.lower()\n",
        "#     text = re.sub(r'[^a-zA-Z\\s]', '', text)\n",
        "#     text = text.strip()\n",
        "#     text = text.replace('\\n', ' ')\n",
        "#     text = re.sub(r'[^\\w\\s]', '', text)\n",
        "#     #tokenizing\n",
        "    \n",
        "#     # lemmatization\n",
        "#     doc = nlp(text)\n",
        "#     text = \" \".join([token.lemma_ for token in doc])\n",
        "#     return text"
      ]
    },
    {
      "cell_type": "code",
      "execution_count": 9,
      "metadata": {
        "colab": {
          "base_uri": "https://localhost:8080/"
        },
        "id": "iLssfBpegKkP",
        "outputId": "887de4c8-8c91-499f-f15f-806bbcef31ca"
      },
      "outputs": [
        {
          "data": {
            "text/plain": [
              "(32462, 143425)"
            ]
          },
          "execution_count": 9,
          "metadata": {},
          "output_type": "execute_result"
        }
      ],
      "source": [
        "tfidf= TfidfVectorizer(stop_words='english')\n",
        "tfidf_matrix = tfidf.fit_transform(movie['General'])\n",
        "tfidf_matrix.shape"
      ]
    },
    {
      "cell_type": "code",
      "execution_count": null,
      "metadata": {
        "id": "iryZZ8T_3DVq"
      },
      "outputs": [],
      "source": [
        "# # Import CountVectorizer and create the count matrix\n",
        "# from sklearn.feature_extraction.text import CountVectorizer\n",
        "\n",
        "# count = CountVectorizer(stop_words='english')\n",
        "# count_matrix = count.fit_transform(movie['General'])\n",
        "# count_matrix.shape"
      ]
    },
    {
      "cell_type": "code",
      "execution_count": 10,
      "metadata": {
        "id": "dJFvraL2gKkQ"
      },
      "outputs": [],
      "source": [
        "from sklearn.decomposition import TruncatedSVD\n",
        "from sklearn.metrics.pairwise import cosine_similarity\n",
        "\n",
        "# Reduce the dimensions of the TF-IDF matrix using SVD\n",
        "svd = TruncatedSVD(n_components=100)\n",
        "svd_matrix = svd.fit_transform(tfidf_matrix)\n",
        "# Calculate cosine similarity on the reduced matrix\n",
        "cosine_sim = cosine_similarity(svd_matrix, svd_matrix)\n"
      ]
    },
    {
      "cell_type": "code",
      "execution_count": null,
      "metadata": {
        "id": "J8pDOhQQgKkS"
      },
      "outputs": [],
      "source": [
        "# from sklearn.decomposition import PCA\n",
        "# from sklearn.metrics.pairwise import cosine_similarity\n",
        "\n",
        "# # Reduce the dimensions of the TF-IDF matrix using PCA\n",
        "# pca = PCA(n_components=100)\n",
        "# pca_matrix = pca.fit_transform(tfidf_matrix.toarray())\n",
        "\n",
        "# # Calculate cosine similarity on the reduced matrix\n",
        "# cosine_sim = cosine_similarity(pca_matrix, pca_matrix)\n"
      ]
    },
    {
      "cell_type": "markdown",
      "metadata": {
        "id": "02LUMGQZElQZ"
      },
      "source": [
        "## Recommend Movies"
      ]
    },
    {
      "cell_type": "code",
      "execution_count": 11,
      "metadata": {
        "id": "0tfnzJV6gKkT"
      },
      "outputs": [],
      "source": [
        "movie = movie.reset_index()\n",
        "indices = pd.Series(movie.index, index=movie['Title'])"
      ]
    },
    {
      "cell_type": "code",
      "execution_count": 13,
      "metadata": {
        "id": "zpKtL7EEgKkU"
      },
      "outputs": [],
      "source": [
        "def get_recommendations(title, consine_sim=cosine_sim):\n",
        "    #index of the movie that matches the title\n",
        "    idx = indices[title]\n",
        "\n",
        "    #pairwise similarity scores of all movies with that movie\n",
        "    sim_scores = list(enumerate(cosine_sim[idx]))\n",
        "\n",
        "    #Sorting the movies based on the similarity scores\n",
        "    sim_scores = sorted(sim_scores,key = lambda x: x[1],reverse=True)\n",
        "\n",
        "    #Scores of 10 most similar movies\n",
        "    sim_scores = sim_scores[:30]\n",
        "\n",
        "    #Get the movie index\n",
        "    movie_indicates = [i[0] for i in sim_scores]\n",
        "\n",
        "    #Combine Cosine similarity and weight score\n",
        "    movie_pred = movie.iloc[movie_indicates][['Title', 'Genre','Score','Review count','Original Language']]\n",
        "    C = movie['Review count'].mean()\n",
        "    m = movie['Review count'].quantile(0.40)\n",
        "    t = movie['Score'].quantile(0.5)\n",
        "    qualified = movie_pred[(movie_pred['Review count'] >= m) & (movie_pred['Score'] >= t)]\n",
        "    qualified['WR_score'] = qualified.apply(weighted_rating, axis=1)\n",
        "    qualified = qualified.sort_values('WR_score', ascending=False).head(15)\n",
        "    return qualified"
      ]
    },
    {
      "cell_type": "code",
      "execution_count": 15,
      "metadata": {
        "id": "pH6awm4RgKkV"
      },
      "outputs": [
        {
          "data": {
            "text/html": [
              "<div>\n",
              "<style scoped>\n",
              "    .dataframe tbody tr th:only-of-type {\n",
              "        vertical-align: middle;\n",
              "    }\n",
              "\n",
              "    .dataframe tbody tr th {\n",
              "        vertical-align: top;\n",
              "    }\n",
              "\n",
              "    .dataframe thead th {\n",
              "        text-align: right;\n",
              "    }\n",
              "</style>\n",
              "<table border=\"1\" class=\"dataframe\">\n",
              "  <thead>\n",
              "    <tr style=\"text-align: right;\">\n",
              "      <th></th>\n",
              "      <th>Title</th>\n",
              "      <th>Genre</th>\n",
              "      <th>Score</th>\n",
              "      <th>Review count</th>\n",
              "      <th>Original Language</th>\n",
              "      <th>WR_score</th>\n",
              "    </tr>\n",
              "  </thead>\n",
              "  <tbody>\n",
              "    <tr>\n",
              "      <th>25279</th>\n",
              "      <td>Your Name</td>\n",
              "      <td>Romance, Fantasy, Anime</td>\n",
              "      <td>96.0</td>\n",
              "      <td>10116</td>\n",
              "      <td>Japanese</td>\n",
              "      <td>73.475843</td>\n",
              "    </tr>\n",
              "    <tr>\n",
              "      <th>6594</th>\n",
              "      <td>Vampire Hunter D</td>\n",
              "      <td>Horror, Animation</td>\n",
              "      <td>78.0</td>\n",
              "      <td>25009</td>\n",
              "      <td>Japanese</td>\n",
              "      <td>71.192153</td>\n",
              "    </tr>\n",
              "    <tr>\n",
              "      <th>25737</th>\n",
              "      <td>The Girl Who Leapt Through Time</td>\n",
              "      <td>Drama, Comedy, Sci-fi, Anime</td>\n",
              "      <td>87.0</td>\n",
              "      <td>10019</td>\n",
              "      <td>Japanese</td>\n",
              "      <td>70.855076</td>\n",
              "    </tr>\n",
              "    <tr>\n",
              "      <th>14986</th>\n",
              "      <td>Ping Pong</td>\n",
              "      <td>Drama, Comedy</td>\n",
              "      <td>80.5</td>\n",
              "      <td>2520</td>\n",
              "      <td>Japanese</td>\n",
              "      <td>65.900287</td>\n",
              "    </tr>\n",
              "    <tr>\n",
              "      <th>4083</th>\n",
              "      <td>Belle</td>\n",
              "      <td>Adventure, Romance, Fantasy, Musical, Anime, M...</td>\n",
              "      <td>95.0</td>\n",
              "      <td>627</td>\n",
              "      <td>Japanese</td>\n",
              "      <td>65.182794</td>\n",
              "    </tr>\n",
              "    <tr>\n",
              "      <th>28584</th>\n",
              "      <td>Warm Water Under a Red Bridge</td>\n",
              "      <td>Drama, Romance, Fantasy</td>\n",
              "      <td>78.0</td>\n",
              "      <td>1045</td>\n",
              "      <td>Japanese</td>\n",
              "      <td>64.980959</td>\n",
              "    </tr>\n",
              "    <tr>\n",
              "      <th>9054</th>\n",
              "      <td>Ocean Waves</td>\n",
              "      <td>Drama, Adventure, Anime</td>\n",
              "      <td>76.5</td>\n",
              "      <td>1018</td>\n",
              "      <td>Japanese</td>\n",
              "      <td>64.909367</td>\n",
              "    </tr>\n",
              "    <tr>\n",
              "      <th>19357</th>\n",
              "      <td>Weathering With You</td>\n",
              "      <td>Drama, Fantasy, Anime</td>\n",
              "      <td>94.0</td>\n",
              "      <td>346</td>\n",
              "      <td>Japanese</td>\n",
              "      <td>64.841548</td>\n",
              "    </tr>\n",
              "    <tr>\n",
              "      <th>1778</th>\n",
              "      <td>Josee, The Tiger and the Fish</td>\n",
              "      <td>Drama, Romance, Animation, Anime</td>\n",
              "      <td>98.5</td>\n",
              "      <td>265</td>\n",
              "      <td>Japanese</td>\n",
              "      <td>64.795667</td>\n",
              "    </tr>\n",
              "  </tbody>\n",
              "</table>\n",
              "</div>"
            ],
            "text/plain": [
              "                                 Title  \\\n",
              "25279                        Your Name   \n",
              "6594                  Vampire Hunter D   \n",
              "25737  The Girl Who Leapt Through Time   \n",
              "14986                        Ping Pong   \n",
              "4083                             Belle   \n",
              "28584    Warm Water Under a Red Bridge   \n",
              "9054                       Ocean Waves   \n",
              "19357              Weathering With You   \n",
              "1778     Josee, The Tiger and the Fish   \n",
              "\n",
              "                                                   Genre  Score  Review count  \\\n",
              "25279                            Romance, Fantasy, Anime   96.0         10116   \n",
              "6594                                   Horror, Animation   78.0         25009   \n",
              "25737                       Drama, Comedy, Sci-fi, Anime   87.0         10019   \n",
              "14986                                      Drama, Comedy   80.5          2520   \n",
              "4083   Adventure, Romance, Fantasy, Musical, Anime, M...   95.0           627   \n",
              "28584                            Drama, Romance, Fantasy   78.0          1045   \n",
              "9054                             Drama, Adventure, Anime   76.5          1018   \n",
              "19357                              Drama, Fantasy, Anime   94.0           346   \n",
              "1778                    Drama, Romance, Animation, Anime   98.5           265   \n",
              "\n",
              "      Original Language   WR_score  \n",
              "25279          Japanese  73.475843  \n",
              "6594           Japanese  71.192153  \n",
              "25737          Japanese  70.855076  \n",
              "14986          Japanese  65.900287  \n",
              "4083           Japanese  65.182794  \n",
              "28584          Japanese  64.980959  \n",
              "9054           Japanese  64.909367  \n",
              "19357          Japanese  64.841548  \n",
              "1778           Japanese  64.795667  "
            ]
          },
          "execution_count": 15,
          "metadata": {},
          "output_type": "execute_result"
        }
      ],
      "source": [
        "get_recommendations('Your Name')"
      ]
    },
    {
      "cell_type": "markdown",
      "metadata": {
        "id": "3QcFVwSakDo8"
      },
      "source": [
        "![Screenshot 2023-03-20 172614.png](data:image/png;base64,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)"
      ]
    },
    {
      "cell_type": "code",
      "execution_count": null,
      "metadata": {
        "id": "jgHcVBEDgKkW"
      },
      "outputs": [],
      "source": []
    }
  ],
  "metadata": {
    "colab": {
      "provenance": []
    },
    "kernelspec": {
      "display_name": "Python 3",
      "language": "python",
      "name": "python3"
    },
    "language_info": {
      "codemirror_mode": {
        "name": "ipython",
        "version": 3
      },
      "file_extension": ".py",
      "mimetype": "text/x-python",
      "name": "python",
      "nbconvert_exporter": "python",
      "pygments_lexer": "ipython3",
      "version": "3.9.7"
    },
    "orig_nbformat": 4
  },
  "nbformat": 4,
  "nbformat_minor": 0
}
